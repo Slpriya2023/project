{
 "cells": [
  {
   "cell_type": "markdown",
   "metadata": {},
   "source": [
    "# Lecture-12 Modules"
   ]
  },
  {
   "cell_type": "markdown",
   "metadata": {},
   "source": [
    "<b>A module is a file containing Python definitions and statements intended for use in other Python programs</b>"
   ]
  },
  {
   "cell_type": "markdown",
   "metadata": {},
   "source": [
    "### random module"
   ]
  },
  {
   "cell_type": "code",
   "execution_count": 1,
   "metadata": {},
   "outputs": [],
   "source": [
    "import random\n",
    "rnd = random.Random()  ## create Random object"
   ]
  },
  {
   "cell_type": "code",
   "execution_count": 2,
   "metadata": {},
   "outputs": [
    {
     "name": "stdout",
     "output_type": "stream",
     "text": [
      "Help on Random in module random object:\n",
      "\n",
      "class Random(_random.Random)\n",
      " |  Random(x=None)\n",
      " |  \n",
      " |  Random number generator base class used by bound module functions.\n",
      " |  \n",
      " |  Used to instantiate instances of Random to get generators that don't\n",
      " |  share state.\n",
      " |  \n",
      " |  Class Random can also be subclassed if you want to use a different basic\n",
      " |  generator of your own devising: in that case, override the following\n",
      " |  methods:  random(), seed(), getstate(), and setstate().\n",
      " |  Optionally, implement a getrandbits() method so that randrange()\n",
      " |  can cover arbitrarily large ranges.\n",
      " |  \n",
      " |  Method resolution order:\n",
      " |      Random\n",
      " |      _random.Random\n",
      " |      builtins.object\n",
      " |  \n",
      " |  Methods defined here:\n",
      " |  \n",
      " |  __getstate__(self)\n",
      " |      # Issue 17489: Since __reduce__ was defined to fix #759889 this is no\n",
      " |      # longer called; we leave it here because it has been here since random was\n",
      " |      # rewritten back in 2001 and why risk breaking something.\n",
      " |  \n",
      " |  __init__(self, x=None)\n",
      " |      Initialize an instance.\n",
      " |      \n",
      " |      Optional argument x controls seeding, as for Random.seed().\n",
      " |  \n",
      " |  __reduce__(self)\n",
      " |      Helper for pickle.\n",
      " |  \n",
      " |  __setstate__(self, state)\n",
      " |  \n",
      " |  betavariate(self, alpha, beta)\n",
      " |      Beta distribution.\n",
      " |      \n",
      " |      Conditions on the parameters are alpha > 0 and beta > 0.\n",
      " |      Returned values range between 0 and 1.\n",
      " |  \n",
      " |  choice(self, seq)\n",
      " |      Choose a random element from a non-empty sequence.\n",
      " |  \n",
      " |  choices(self, population, weights=None, *, cum_weights=None, k=1)\n",
      " |      Return a k sized list of population elements chosen with replacement.\n",
      " |      \n",
      " |      If the relative weights or cumulative weights are not specified,\n",
      " |      the selections are made with equal probability.\n",
      " |  \n",
      " |  expovariate(self, lambd)\n",
      " |      Exponential distribution.\n",
      " |      \n",
      " |      lambd is 1.0 divided by the desired mean.  It should be\n",
      " |      nonzero.  (The parameter would be called \"lambda\", but that is\n",
      " |      a reserved word in Python.)  Returned values range from 0 to\n",
      " |      positive infinity if lambd is positive, and from negative\n",
      " |      infinity to 0 if lambd is negative.\n",
      " |  \n",
      " |  gammavariate(self, alpha, beta)\n",
      " |      Gamma distribution.  Not the gamma function!\n",
      " |      \n",
      " |      Conditions on the parameters are alpha > 0 and beta > 0.\n",
      " |      \n",
      " |      The probability distribution function is:\n",
      " |      \n",
      " |                  x ** (alpha - 1) * math.exp(-x / beta)\n",
      " |        pdf(x) =  --------------------------------------\n",
      " |                    math.gamma(alpha) * beta ** alpha\n",
      " |  \n",
      " |  gauss(self, mu, sigma)\n",
      " |      Gaussian distribution.\n",
      " |      \n",
      " |      mu is the mean, and sigma is the standard deviation.  This is\n",
      " |      slightly faster than the normalvariate() function.\n",
      " |      \n",
      " |      Not thread-safe without a lock around calls.\n",
      " |  \n",
      " |  getstate(self)\n",
      " |      Return internal state; can be passed to setstate() later.\n",
      " |  \n",
      " |  lognormvariate(self, mu, sigma)\n",
      " |      Log normal distribution.\n",
      " |      \n",
      " |      If you take the natural logarithm of this distribution, you'll get a\n",
      " |      normal distribution with mean mu and standard deviation sigma.\n",
      " |      mu can have any value, and sigma must be greater than zero.\n",
      " |  \n",
      " |  normalvariate(self, mu, sigma)\n",
      " |      Normal distribution.\n",
      " |      \n",
      " |      mu is the mean, and sigma is the standard deviation.\n",
      " |  \n",
      " |  paretovariate(self, alpha)\n",
      " |      Pareto distribution.  alpha is the shape parameter.\n",
      " |  \n",
      " |  randint(self, a, b)\n",
      " |      Return random integer in range [a, b], including both end points.\n",
      " |  \n",
      " |  randrange(self, start, stop=None, step=1, _int=<class 'int'>)\n",
      " |      Choose a random item from range(start, stop[, step]).\n",
      " |      \n",
      " |      This fixes the problem with randint() which includes the\n",
      " |      endpoint; in Python this is usually not what you want.\n",
      " |  \n",
      " |  sample(self, population, k)\n",
      " |      Chooses k unique random elements from a population sequence or set.\n",
      " |      \n",
      " |      Returns a new list containing elements from the population while\n",
      " |      leaving the original population unchanged.  The resulting list is\n",
      " |      in selection order so that all sub-slices will also be valid random\n",
      " |      samples.  This allows raffle winners (the sample) to be partitioned\n",
      " |      into grand prize and second place winners (the subslices).\n",
      " |      \n",
      " |      Members of the population need not be hashable or unique.  If the\n",
      " |      population contains repeats, then each occurrence is a possible\n",
      " |      selection in the sample.\n",
      " |      \n",
      " |      To choose a sample in a range of integers, use range as an argument.\n",
      " |      This is especially fast and space efficient for sampling from a\n",
      " |      large population:   sample(range(10000000), 60)\n",
      " |  \n",
      " |  seed(self, a=None, version=2)\n",
      " |      Initialize internal state from hashable object.\n",
      " |      \n",
      " |      None or no argument seeds from current time or from an operating\n",
      " |      system specific randomness source if available.\n",
      " |      \n",
      " |      If *a* is an int, all bits are used.\n",
      " |      \n",
      " |      For version 2 (the default), all of the bits are used if *a* is a str,\n",
      " |      bytes, or bytearray.  For version 1 (provided for reproducing random\n",
      " |      sequences from older versions of Python), the algorithm for str and\n",
      " |      bytes generates a narrower range of seeds.\n",
      " |  \n",
      " |  setstate(self, state)\n",
      " |      Restore internal state from object returned by getstate().\n",
      " |  \n",
      " |  shuffle(self, x, random=None)\n",
      " |      Shuffle list x in place, and return None.\n",
      " |      \n",
      " |      Optional argument random is a 0-argument function returning a\n",
      " |      random float in [0.0, 1.0); if it is the default None, the\n",
      " |      standard random.random will be used.\n",
      " |  \n",
      " |  triangular(self, low=0.0, high=1.0, mode=None)\n",
      " |      Triangular distribution.\n",
      " |      \n",
      " |      Continuous distribution bounded by given lower and upper limits,\n",
      " |      and having a given mode value in-between.\n",
      " |      \n",
      " |      http://en.wikipedia.org/wiki/Triangular_distribution\n",
      " |  \n",
      " |  uniform(self, a, b)\n",
      " |      Get a random number in the range [a, b) or [a, b] depending on rounding.\n",
      " |  \n",
      " |  vonmisesvariate(self, mu, kappa)\n",
      " |      Circular data distribution.\n",
      " |      \n",
      " |      mu is the mean angle, expressed in radians between 0 and 2*pi, and\n",
      " |      kappa is the concentration parameter, which must be greater than or\n",
      " |      equal to zero.  If kappa is equal to zero, this distribution reduces\n",
      " |      to a uniform random angle over the range 0 to 2*pi.\n",
      " |  \n",
      " |  weibullvariate(self, alpha, beta)\n",
      " |      Weibull distribution.\n",
      " |      \n",
      " |      alpha is the scale parameter and beta is the shape parameter.\n",
      " |  \n",
      " |  ----------------------------------------------------------------------\n",
      " |  Data descriptors defined here:\n",
      " |  \n",
      " |  __dict__\n",
      " |      dictionary for instance variables (if defined)\n",
      " |  \n",
      " |  __weakref__\n",
      " |      list of weak references to the object (if defined)\n",
      " |  \n",
      " |  ----------------------------------------------------------------------\n",
      " |  Data and other attributes defined here:\n",
      " |  \n",
      " |  VERSION = 3\n",
      " |  \n",
      " |  ----------------------------------------------------------------------\n",
      " |  Methods inherited from _random.Random:\n",
      " |  \n",
      " |  __getattribute__(self, name, /)\n",
      " |      Return getattr(self, name).\n",
      " |  \n",
      " |  getrandbits(...)\n",
      " |      getrandbits(k) -> x.  Generates an int with k random bits.\n",
      " |  \n",
      " |  random(...)\n",
      " |      random() -> x in the interval [0, 1).\n",
      " |  \n",
      " |  ----------------------------------------------------------------------\n",
      " |  Static methods inherited from _random.Random:\n",
      " |  \n",
      " |  __new__(*args, **kwargs) from builtins.type\n",
      " |      Create and return a new object.  See help(type) for accurate signature.\n",
      "\n"
     ]
    }
   ],
   "source": [
    "help(rnd)"
   ]
  },
  {
   "cell_type": "markdown",
   "metadata": {},
   "source": [
    "#### randint(), randrange(), random(), shuffle() methods"
   ]
  },
  {
   "cell_type": "code",
   "execution_count": 5,
   "metadata": {},
   "outputs": [
    {
     "name": "stdout",
     "output_type": "stream",
     "text": [
      "10\n"
     ]
    }
   ],
   "source": [
    "print(rnd.randint(1,10))"
   ]
  },
  {
   "cell_type": "code",
   "execution_count": 6,
   "metadata": {},
   "outputs": [
    {
     "name": "stdout",
     "output_type": "stream",
     "text": [
      "0.4928459940069214\n"
     ]
    }
   ],
   "source": [
    "print(rnd.random())"
   ]
  },
  {
   "cell_type": "code",
   "execution_count": 9,
   "metadata": {},
   "outputs": [
    {
     "name": "stdout",
     "output_type": "stream",
     "text": [
      "4\n"
     ]
    }
   ],
   "source": [
    "print(rnd.randrange(1,7)) # Return an int, one of 1,2,3,4,5,6"
   ]
  },
  {
   "cell_type": "code",
   "execution_count": 14,
   "metadata": {},
   "outputs": [
    {
     "name": "stdout",
     "output_type": "stream",
     "text": [
      "21\n"
     ]
    }
   ],
   "source": [
    "print(rnd.randrange(1,100, 2)) # random odd number less than 100"
   ]
  },
  {
   "cell_type": "code",
   "execution_count": 23,
   "metadata": {},
   "outputs": [
    {
     "name": "stdout",
     "output_type": "stream",
     "text": [
      "82\n"
     ]
    }
   ],
   "source": [
    "# Generate even random numbers upto 100\n",
    "import random\n",
    "r = random.Random()\n",
    "print(r.randrange(0, 100, 2))"
   ]
  },
  {
   "cell_type": "code",
   "execution_count": 25,
   "metadata": {},
   "outputs": [
    {
     "name": "stdout",
     "output_type": "stream",
     "text": [
      "Original:  [0, 1, 2, 3, 4, 5, 6, 7, 8, 9, 10, 11, 12, 13, 14, 15, 16, 17, 18, 19]\n",
      "Shuffled:  [11, 9, 4, 0, 18, 13, 2, 12, 7, 5, 19, 8, 15, 3, 1, 16, 17, 6, 10, 14]\n"
     ]
    }
   ],
   "source": [
    "cards = list(range(20))\n",
    "print('Original: ', cards)\n",
    "rnd.shuffle(cards)\n",
    "print('Shuffled: ', cards)"
   ]
  },
  {
   "cell_type": "markdown",
   "metadata": {},
   "source": [
    "### time module"
   ]
  },
  {
   "cell_type": "code",
   "execution_count": 26,
   "metadata": {},
   "outputs": [
    {
     "name": "stdout",
     "output_type": "stream",
     "text": [
      "3.484375\n",
      "1422.1128324\n"
     ]
    }
   ],
   "source": [
    "import time\n",
    "t = time.process_time()\n",
    "print(t)\n",
    "\n",
    "import timeit\n",
    "t2 = timeit.default_timer()\n",
    "print(t2)"
   ]
  },
  {
   "cell_type": "markdown",
   "metadata": {},
   "source": [
    "### math module"
   ]
  },
  {
   "cell_type": "code",
   "execution_count": null,
   "metadata": {},
   "outputs": [],
   "source": [
    "import math\n"
   ]
  },
  {
   "cell_type": "markdown",
   "metadata": {},
   "source": [
    "### Creating your own modules"
   ]
  },
  {
   "cell_type": "code",
   "execution_count": null,
   "metadata": {},
   "outputs": [],
   "source": [
    "#mytools.py\n",
    "def square(num):\n",
    "    return num*num"
   ]
  },
  {
   "cell_type": "code",
   "execution_count": null,
   "metadata": {},
   "outputs": [],
   "source": [
    "#import mytools\n",
    "#print(square(10))\n",
    "\n",
    "### DO IT IN TEXT EDITOR"
   ]
  },
  {
   "cell_type": "markdown",
   "metadata": {},
   "source": [
    "### Namespace"
   ]
  },
  {
   "cell_type": "code",
   "execution_count": null,
   "metadata": {},
   "outputs": [],
   "source": [
    "'''\n",
    "#tools1.py\n",
    "def add(a,b):\n",
    "    return a+b\n",
    "\n",
    "\n",
    "# tools2.py\n",
    "def add(a,b):\n",
    "    result = 'Hello ' + a + b\n",
    "    return result\n",
    "'''"
   ]
  },
  {
   "cell_type": "code",
   "execution_count": null,
   "metadata": {},
   "outputs": [],
   "source": [
    "## import the user defined modules tools1.py and tools2.py from current directory\n",
    "import tools1\n",
    "import tools2\n",
    "\n",
    "result = tools1.add(10, 20)\n",
    "print(result)"
   ]
  },
  {
   "cell_type": "code",
   "execution_count": null,
   "metadata": {},
   "outputs": [],
   "source": [
    "sresult = tools2.add('hi', 'hai')\n",
    "print(sresult)"
   ]
  },
  {
   "cell_type": "markdown",
   "metadata": {},
   "source": [
    "### Function namespace"
   ]
  },
  {
   "cell_type": "code",
   "execution_count": null,
   "metadata": {},
   "outputs": [],
   "source": [
    "def f():\n",
    "    n = 10\n",
    "    print('n inside f: ', n)\n",
    "\n",
    "def g():\n",
    "    n = 20\n",
    "    print('different n inside g: ', n)\n",
    "\n",
    "n = 30\n",
    "print('n outside functions: ', n)\n",
    "\n",
    "#call functions\n",
    "f()\n",
    "g()\n"
   ]
  },
  {
   "cell_type": "markdown",
   "metadata": {},
   "source": [
    "### import types"
   ]
  },
  {
   "cell_type": "code",
   "execution_count": null,
   "metadata": {},
   "outputs": [],
   "source": [
    "import math\n",
    "from math import sin\n",
    "from math import *"
   ]
  },
  {
   "cell_type": "code",
   "execution_count": null,
   "metadata": {},
   "outputs": [],
   "source": []
  },
  {
   "cell_type": "code",
   "execution_count": 3,
   "metadata": {},
   "outputs": [],
   "source": [
    "from rktools import *"
   ]
  },
  {
   "cell_type": "code",
   "execution_count": 4,
   "metadata": {},
   "outputs": [
    {
     "name": "stdout",
     "output_type": "stream",
     "text": [
      "15\n"
     ]
    }
   ],
   "source": [
    "print(max(10, 15))"
   ]
  },
  {
   "cell_type": "code",
   "execution_count": null,
   "metadata": {},
   "outputs": [],
   "source": []
  }
 ],
 "metadata": {
  "kernelspec": {
   "display_name": "Python 3 (ipykernel)",
   "language": "python",
   "name": "python3"
  },
  "language_info": {
   "codemirror_mode": {
    "name": "ipython",
    "version": 3
   },
   "file_extension": ".py",
   "mimetype": "text/x-python",
   "name": "python",
   "nbconvert_exporter": "python",
   "pygments_lexer": "ipython3",
   "version": "3.11.3"
  }
 },
 "nbformat": 4,
 "nbformat_minor": 2
}
