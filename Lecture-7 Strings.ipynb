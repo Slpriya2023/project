{
 "cells": [
  {
   "cell_type": "markdown",
   "metadata": {},
   "source": [
    "# Lecture-7 Strings"
   ]
  },
  {
   "cell_type": "markdown",
   "metadata": {},
   "source": [
    "## Index\n",
    " In Python INDEX is the position of the element in the specified list or the characters in the string."
   ]
  },
  {
   "cell_type": "code",
   "execution_count": 1,
   "metadata": {},
   "outputs": [
    {
     "name": "stdout",
     "output_type": "stream",
     "text": [
      "m\n"
     ]
    }
   ],
   "source": [
    "# Index to access char, index starts at 0\n",
    "fruit = 'banana mango'\n",
    "letter = fruit[7]\n",
    "print(letter)"
   ]
  },
  {
   "cell_type": "code",
   "execution_count": 2,
   "metadata": {},
   "outputs": [
    {
     "name": "stdout",
     "output_type": "stream",
     "text": [
      "o\n"
     ]
    }
   ],
   "source": [
    "print(fruit[-1])"
   ]
  },
  {
   "cell_type": "code",
   "execution_count": 3,
   "metadata": {},
   "outputs": [
    {
     "name": "stdout",
     "output_type": "stream",
     "text": [
      "12\n"
     ]
    }
   ],
   "source": [
    "# Length\n",
    "print(len(fruit))"
   ]
  },
  {
   "cell_type": "code",
   "execution_count": 4,
   "metadata": {},
   "outputs": [
    {
     "name": "stdout",
     "output_type": "stream",
     "text": [
      "7\n"
     ]
    }
   ],
   "source": [
    "# indexing possible with list too\n",
    "odd_numbers = [1,3,5,7,9,11]\n",
    "print(odd_numbers[3])"
   ]
  },
  {
   "cell_type": "markdown",
   "metadata": {},
   "source": [
    "## Traversing string\n",
    "   Traversing a string means accessing all the elements of the string one after the other by using the subscript. A string can be traversed using for loop or while loop"
   ]
  },
  {
   "cell_type": "code",
   "execution_count": 5,
   "metadata": {},
   "outputs": [
    {
     "name": "stdout",
     "output_type": "stream",
     "text": [
      "b a n a n a   m a n g o "
     ]
    }
   ],
   "source": [
    "# traversing string\n",
    "for char in fruit:\n",
    "    print(char,end=' ')"
   ]
  },
  {
   "cell_type": "markdown",
   "metadata": {},
   "source": [
    "## String Slicing\n",
    "  String slicing in python programming is all about fetching a substring from a given string by slicing it from a 'start' index until a 'stop' index."
   ]
  },
  {
   "cell_type": "code",
   "execution_count": null,
   "metadata": {},
   "outputs": [],
   "source": [
    "# String slicing\n",
    "print(fruit[7:10])"
   ]
  },
  {
   "cell_type": "code",
   "execution_count": null,
   "metadata": {},
   "outputs": [],
   "source": [
    "print(fruit[0:2])"
   ]
  },
  {
   "cell_type": "code",
   "execution_count": null,
   "metadata": {},
   "outputs": [],
   "source": [
    "print(fruit[:5])"
   ]
  },
  {
   "cell_type": "code",
   "execution_count": null,
   "metadata": {},
   "outputs": [],
   "source": [
    "print(fruit[3:])"
   ]
  },
  {
   "cell_type": "code",
   "execution_count": null,
   "metadata": {},
   "outputs": [],
   "source": [
    "print(fruit[-2])"
   ]
  },
  {
   "cell_type": "code",
   "execution_count": null,
   "metadata": {},
   "outputs": [],
   "source": [
    "print(fruit[-6:])"
   ]
  },
  {
   "cell_type": "code",
   "execution_count": null,
   "metadata": {},
   "outputs": [],
   "source": [
    "print(fruit[:-5])"
   ]
  },
  {
   "cell_type": "code",
   "execution_count": null,
   "metadata": {},
   "outputs": [],
   "source": [
    "print(fruit[-10:-5])"
   ]
  },
  {
   "cell_type": "code",
   "execution_count": null,
   "metadata": {},
   "outputs": [],
   "source": [
    "#print(-1:-4)"
   ]
  },
  {
   "cell_type": "code",
   "execution_count": null,
   "metadata": {},
   "outputs": [],
   "source": [
    "print(fruit[:])"
   ]
  },
  {
   "cell_type": "markdown",
   "metadata": {},
   "source": [
    "## in and not in operators\n",
    "  They are implemented in order to figure out whether a value or variable is located in a sequence (string, list, tuple, set and dictionary)."
   ]
  },
  {
   "cell_type": "code",
   "execution_count": null,
   "metadata": {},
   "outputs": [],
   "source": [
    "print('x' in 'unix')"
   ]
  },
  {
   "cell_type": "code",
   "execution_count": null,
   "metadata": {},
   "outputs": [],
   "source": [
    "print('l' not in 'unix')"
   ]
  },
  {
   "cell_type": "code",
   "execution_count": null,
   "metadata": {},
   "outputs": [],
   "source": [
    "print('x' in 'windows')"
   ]
  },
  {
   "cell_type": "markdown",
   "metadata": {},
   "source": [
    "### Walk Through"
   ]
  },
  {
   "cell_type": "markdown",
   "metadata": {},
   "source": [
    "#### Search for a char in string"
   ]
  },
  {
   "cell_type": "code",
   "execution_count": null,
   "metadata": {},
   "outputs": [],
   "source": [
    "def search(string, substr):\n",
    "    look = False\n",
    "    if substr in string:\n",
    "        look = True\n",
    "    return look"
   ]
  },
  {
   "cell_type": "code",
   "execution_count": null,
   "metadata": {},
   "outputs": [],
   "source": [
    "# call it\n",
    "s = 'banana mango apple'\n",
    "sub = 'mango'\n",
    "if search(s, sub):\n",
    "    print(sub, ' appears in ', s)\n",
    "else:\n",
    "    print(sub, ' does not appear in ', s)\n"
   ]
  },
  {
   "cell_type": "markdown",
   "metadata": {},
   "source": [
    "## Strings are immutable, you cannot modify "
   ]
  },
  {
   "cell_type": "code",
   "execution_count": null,
   "metadata": {},
   "outputs": [],
   "source": [
    "#fruit[0] = 'J'"
   ]
  },
  {
   "cell_type": "markdown",
   "metadata": {},
   "source": [
    "### Count a char from string"
   ]
  },
  {
   "cell_type": "code",
   "execution_count": null,
   "metadata": {},
   "outputs": [],
   "source": [
    "# Count how many a's in this string\n",
    "word = 'banana mango apple'\n",
    "search = 'a'  # modify such that it also counts 'A'\n",
    "count = 0\n",
    "\n",
    "for char in word:\n",
    "    if char == search:\n",
    "        count += 1\n",
    "\n",
    "print('Character ', search, ' appears', count, ' times')        "
   ]
  },
  {
   "cell_type": "markdown",
   "metadata": {},
   "source": [
    "### Walk Through"
   ]
  },
  {
   "cell_type": "markdown",
   "metadata": {},
   "source": [
    "#### Represent the above code as a function count(string, search) that returns the number of times search character appears in string"
   ]
  },
  {
   "cell_type": "markdown",
   "metadata": {},
   "source": [
    "#### Write a function that accepts three arguments – a string, a character to search for and a replacement character. Have your function search the string for all occurrences of that character and perform the replacement. Return the new String"
   ]
  },
  {
   "cell_type": "markdown",
   "metadata": {},
   "source": [
    "#### Write a new function that counts the #’s of vowels in a string (A,E,I,O,U). Use your character counter function to implement your new function"
   ]
  },
  {
   "cell_type": "markdown",
   "metadata": {},
   "source": [
    "## String Methods"
   ]
  },
  {
   "cell_type": "markdown",
   "metadata": {},
   "source": [
    "The dir() function returns all properties and methods of the specified object, without the values. This function will return all the properties and methods, even built-in properties which are default for all object."
   ]
  },
  {
   "cell_type": "code",
   "execution_count": null,
   "metadata": {},
   "outputs": [],
   "source": [
    "greet = 'Hello Peter'\n",
    "dir(greet)"
   ]
  },
  {
   "cell_type": "markdown",
   "metadata": {},
   "source": [
    "### Get Help using SHIFT + TAB key press"
   ]
  },
  {
   "cell_type": "code",
   "execution_count": null,
   "metadata": {},
   "outputs": [],
   "source": [
    "#str.find()"
   ]
  },
  {
   "cell_type": "markdown",
   "metadata": {},
   "source": [
    "### Practice all string methods"
   ]
  },
  {
   "cell_type": "code",
   "execution_count": null,
   "metadata": {},
   "outputs": [],
   "source": [
    "# Teach examples"
   ]
  },
  {
   "cell_type": "markdown",
   "metadata": {},
   "source": [
    "## Concatenation of functions"
   ]
  },
  {
   "cell_type": "code",
   "execution_count": null,
   "metadata": {},
   "outputs": [],
   "source": [
    "welcome = 'good morning, have a good day'\n",
    "\n",
    "# get loc of char 'H'\n",
    "print('Location: ', welcome.upper().find('H'))"
   ]
  },
  {
   "cell_type": "markdown",
   "metadata": {},
   "source": [
    "### Remove vowels from a string"
   ]
  },
  {
   "cell_type": "code",
   "execution_count": null,
   "metadata": {},
   "outputs": [],
   "source": [
    "def remove_vowels(phrase):\n",
    "    vowels = \"aeiou\"\n",
    "    result = \"\"\n",
    "    for letter in phrase:\n",
    "        if letter.lower() not in vowels:\n",
    "            result += letter\n",
    "    return result"
   ]
  },
  {
   "cell_type": "code",
   "execution_count": null,
   "metadata": {},
   "outputs": [],
   "source": [
    "# call function\n",
    "result = remove_vowels('have a good day')\n",
    "print(result)"
   ]
  },
  {
   "cell_type": "markdown",
   "metadata": {},
   "source": [
    "### Split into tokens"
   ]
  },
  {
   "cell_type": "markdown",
   "metadata": {},
   "source": [
    "Python breaks each logical line into a sequence of elementary lexical components known as tokens. Each token corresponds to a substring of the logical line. "
   ]
  },
  {
   "cell_type": "code",
   "execution_count": null,
   "metadata": {},
   "outputs": [],
   "source": [
    "welcome = 'good morning, have a good day'\n",
    "tokens = welcome.split()\n",
    "for token in tokens:\n",
    "    print(token)"
   ]
  },
  {
   "cell_type": "markdown",
   "metadata": {},
   "source": [
    "## Parsing Strings"
   ]
  },
  {
   "cell_type": "code",
   "execution_count": null,
   "metadata": {},
   "outputs": [],
   "source": [
    "# Find the position of a char\n",
    "data = 'From stephen.marquard@uct.ac.za Sat Jan 5 09:14:16 2008'\n",
    "pos = data.find('@')\n",
    "print(pos)"
   ]
  },
  {
   "cell_type": "code",
   "execution_count": null,
   "metadata": {},
   "outputs": [],
   "source": [
    "# Extract domain \"uct.ac.za\"\n",
    "endpos = data.find(' ', pos)\n",
    "print(data[pos+1:endpos])"
   ]
  },
  {
   "cell_type": "code",
   "execution_count": null,
   "metadata": {},
   "outputs": [],
   "source": [
    "help(str.find)"
   ]
  },
  {
   "cell_type": "markdown",
   "metadata": {},
   "source": [
    "## Formatted output"
   ]
  },
  {
   "cell_type": "code",
   "execution_count": null,
   "metadata": {},
   "outputs": [],
   "source": [
    "# constructs string\n",
    "salary = 10500\n",
    "print('Your salary is %d for the month of Auguest' %salary)"
   ]
  },
  {
   "cell_type": "code",
   "execution_count": null,
   "metadata": {},
   "outputs": [],
   "source": [
    "salary = 10500.55\n",
    "print('Your salary is %f for the month of Auguest' %salary)"
   ]
  },
  {
   "cell_type": "code",
   "execution_count": null,
   "metadata": {},
   "outputs": [],
   "source": [
    "salary = 10500.55\n",
    "print('Your salary is %.2f for the month of Auguest' %salary)"
   ]
  },
  {
   "cell_type": "code",
   "execution_count": null,
   "metadata": {},
   "outputs": [],
   "source": [
    "name = 'Peter'\n",
    "print('Welcome %s, Have a good day!' %name)"
   ]
  },
  {
   "cell_type": "code",
   "execution_count": null,
   "metadata": {},
   "outputs": [],
   "source": [
    "salary = 25000\n",
    "name = 'Felix'\n",
    "print('Welcome %s, your salary for August is %d rupees' %(name, salary))"
   ]
  },
  {
   "cell_type": "markdown",
   "metadata": {},
   "source": [
    "#### format() method"
   ]
  },
  {
   "cell_type": "code",
   "execution_count": null,
   "metadata": {},
   "outputs": [],
   "source": [
    "phrase = \"His name is {0}!\".format(\"Arthur\")\n",
    "print(phrase)"
   ]
  },
  {
   "cell_type": "code",
   "execution_count": null,
   "metadata": {},
   "outputs": [],
   "source": [
    "name = 'Peter'\n",
    "age = 20\n",
    "phrase = \"I am {1} and I am {0} years old.\".format(age, name)\n",
    "print(phrase)"
   ]
  },
  {
   "cell_type": "code",
   "execution_count": null,
   "metadata": {},
   "outputs": [],
   "source": [
    "phrase = \"I am {0} and I am {1} years old.\".format(age, name)\n",
    "print(phrase)"
   ]
  },
  {
   "cell_type": "code",
   "execution_count": null,
   "metadata": {},
   "outputs": [],
   "source": [
    "salary1 = 10000.00\n",
    "print('my salary is {0:f}'.format(salary))"
   ]
  },
  {
   "cell_type": "code",
   "execution_count": null,
   "metadata": {},
   "outputs": [],
   "source": [
    "salary2 = 10000.00\n",
    "print('my salary is {0:f} for auguest and {1:f} for september'.format(salary, salary2))"
   ]
  },
  {
   "cell_type": "code",
   "execution_count": null,
   "metadata": {},
   "outputs": [],
   "source": [
    "print('my salary is {0:.2f} for auguest and {1:.2f} for september'.format(salary1, salary2))"
   ]
  },
  {
   "cell_type": "markdown",
   "metadata": {},
   "source": [
    "### Walk Through"
   ]
  },
  {
   "cell_type": "markdown",
   "metadata": {},
   "source": [
    "1. For the following string, str = 'X-DSPAM-Confidence:0.8475'\n",
    "Use find and string slicing to extract the portion of the string after the colon character and then use the float function to convert the extracted string into a floating point number. Finally print it using '%4f'"
   ]
  },
  {
   "cell_type": "markdown",
   "metadata": {},
   "source": [
    "2. Develop a function find(string, char) that returns the position of char if exists, otherwise -1"
   ]
  },
  {
   "cell_type": "markdown",
   "metadata": {},
   "source": [
    "3. Develop a function remove_punctuation(string) that returns the string after removing the following punctuations <br> \n",
    "punctuation = \"!\\\"#$%&'()*+,-./:;<=>?@[\\\\]^_`{|}~\""
   ]
  },
  {
   "cell_type": "markdown",
   "metadata": {},
   "source": [
    "### Read Python Documentation"
   ]
  },
  {
   "cell_type": "markdown",
   "metadata": {},
   "source": [
    "https://docs.python.org/library/stdtypes.html#string-methods"
   ]
  },
  {
   "cell_type": "markdown",
   "metadata": {},
   "source": [
    "## Home Work: String Processing"
   ]
  },
  {
   "cell_type": "markdown",
   "metadata": {},
   "source": [
    "Write    a    function    front_back    that    takes    in    a    string    and    returns    a    new    string    where    the    first    and    last    characters    have    been    exchanged!\n",
    "<br>front_back('code') → 'eodc' \n",
    "<br>front_back('a') → 'a' \n",
    "<br>front_back('ab') → 'ba’ "
   ]
  },
  {
   "cell_type": "code",
   "execution_count": null,
   "metadata": {},
   "outputs": [],
   "source": [
    "def front_back(s):\n",
    "\tnew_s = s[-1] + s[1:-1] + s[0]\n",
    "\treturn new_s\n",
    "\n",
    "def front_back2(s):\n",
    "\t# Add the last char\n",
    "\tnew_s = s[-1]\n",
    "\t\n",
    "\t# Stops at the second-to-last element\n",
    "\tfor i in range(1, len(s) - 1):\n",
    "\t\tnew_s += s[i]\n",
    "\t\n",
    "\t# Add the first char\n",
    "\tnew_s += s[0]\n",
    "\t\n",
    "\treturn new_s\n",
    "\t\n",
    "def main():\n",
    "\ts = input(\"String: \")\n",
    "\tnew_s = front_back(s)\n",
    "\tprint(\"Front-back:\", new_s)\n",
    "\tnew2 = front_back2(s)\n",
    "\tprint(\"Front-back2:\", new2)\n",
    "\n",
    "main()"
   ]
  },
  {
   "cell_type": "markdown",
   "metadata": {},
   "source": [
    "#### Programming Challenge: Pig Latin Translator\n",
    "<br>Write a program that asks the user for a word\n",
    "<br>Translate their word into Pig Latin. A Pig Latin word can be generated using the following rules:\n",
    "<br>a. Remove the first letter of the word\n",
    "<br>b. Place the first letter of the word at the end of the word\n",
    "<br>c. Add the string ”ay” to the end of the word"
   ]
  },
  {
   "cell_type": "markdown",
   "metadata": {},
   "source": [
    "#### Username Generation"
   ]
  },
  {
   "cell_type": "markdown",
   "metadata": {},
   "source": [
    "You just accepted a position at BHC’s ITS department and your first task is to write a program that generates student Net IDs for all incoming freshmen\n",
    "❖Net IDs are generated as follows:\n",
    "❖The first two characters of a student’s first name\n",
    "❖The first two characters of a student’s last name\n",
    "❖The last three characters of a student’s Roll#\n",
    "❖Write a program that asks the user for these three pieces of information (first name, last name and Roll#) and generate their Net ID.\n",
    "❖Note that if a student’s first name or last name is less than 2 characters then you should use the entire first name or last name."
   ]
  },
  {
   "cell_type": "markdown",
   "metadata": {},
   "source": [
    "#### Character Analysis"
   ]
  },
  {
   "cell_type": "markdown",
   "metadata": {},
   "source": [
    "Write a program that counts the # of spaces, digits, vowels and consonants in a string that the user inputs.  \n",
    "<br>Example:\n",
    "<br>Enter a phrase:  Sally Sells 1000 sea shells. \n",
    "<br>Spaces:  4\n",
    "<br>Digits:  4\n",
    "<br>Vowels:  5\n",
    "<br>Consonants:  12"
   ]
  },
  {
   "cell_type": "code",
   "execution_count": null,
   "metadata": {},
   "outputs": [],
   "source": []
  },
  {
   "cell_type": "markdown",
   "metadata": {},
   "source": [
    "Write a program that accepts a phrase from the user❖Strip out any leading or trailing “white space” from the string❖If the string has an even number of characters, make it all lowercase❖If the string has an odd number of characters, make it all uppercase"
   ]
  },
  {
   "cell_type": "code",
   "execution_count": null,
   "metadata": {},
   "outputs": [],
   "source": []
  },
  {
   "cell_type": "code",
   "execution_count": null,
   "metadata": {},
   "outputs": [],
   "source": [
    "washington_post = \"\"\"Russian officials vehemently defended the country s airstrikes in Syria on Thursday as blows to Islamic State militants even as evidence mounted suggesting that U S backed rebels and others were facing the brunt of Moscow s attacks \n",
    "And while Russian officials and diplomats rallied behind President Vladimir Putin the Kremlin s stance appeared further clouded by acknowledgments that the missions have already extended beyond solely the Islamic State \n",
    "In Paris the Russian ambassador to France Alexander Orlov said the Russian attacks also targeted an al Qaeda linked group Jabhat al Nusra or al Nusra Front \n",
    "Syrias ambassador to Russia Riad Haddad echoed that the joint hit list for Russia and the Syrian government included Jabhat al Nusra which is believed to have some coordination with the Islamic State but is still seen mostly as a rival \n",
    "We are confronting armed terrorist groups in Syria regardless of how they identify themselves whether it is Jabhat al Nusra the ISIL or others he said using one of the acronyms for the Islamic State \n",
    "They all are pursuing ISIL ends he added according to the Interfax news agency \n",
    "The ambassadors did not specifically mention any U S and Western backed rebel groups \n",
    "But the comment was certain to deepen suspicions by Washington and allies that Putin s short term aim is to give more breathing space to Syria s embattled President Bashar al Assad whose government is strongly supported by Moscow \n",
    "Syrian activists meanwhile ramped up their own claims that Moscow was hitting groups seeking to bring down Assad who has managed to hang on during more than four years of civil war \n",
    "Russia s expanding military intervention in Syria added urgency to separate efforts by Russia and U S officials to coordinate strategies against the Islamic State and avoid potential airspace missteps between the two powers so called deconfliction talks The Pentagon said the discussions will begin Thursday \n",
    "One monitoring group the Britain based Syrian Observatory for Human Rights said Russian airstrikes again struck strongholds of an American backed rebel group Tajamu Alezzah in central Hama province \n",
    "The actions quickly criticized by Washington add an unpredictable element to a multilayered war \n",
    "The observatory also reported that airstrikes hit the northwestern city Jisr al Shughour which is in the hands of rebel groups including al Nusra after battles last month to drive back Assad s forces \n",
    "Among the locations hit was a site near Kafr Nabl the northern Syrian town whose weekly protests against the government often featuring pithy slogans in English won it renown as a symbol of what began as a peaceful protest movement against the Assad regime The local council receives U S assistance and the rebel unit there has received support under a covert CIA program aimed at bolstering moderate rebels \n",
    "Raed Fares one of the leaders of the protest movement in Kafr Nabl said warplanes struck a Free Syrian Army checkpoint guarding Roman ruins on the outskirts of the town He said the explosion was bigger than anything local residents had seen in three years of airstrikes conducted by Syrian warplanes \n",
    "It made a fire six kilometers wide he told The Washington Post \n",
    "Other sites hit on the second day of Russian bombing included locations in the province of Hama The targets suggested the main intention of the strikes was to shore up government control over a corridor of territory linking the capital Damascus to the Assad family s coastal heartland where the Russians are operating out of an expanded air base \n",
    "Syrian rebels some of them U S backed had been making slow but steady gains in the area considered one of the government s biggest vulnerabilities There has been no Islamic State presence there since January when moderate rebels rose up against the extremists and forced them to retreat to eastern Syria \n",
    "In Washington Sen John McCain R Ariz told CNN he could absolutely confirm that airstrikes hit Western backed groups such as the Free Syrian Army and other factions armed and trained by the CIA \n",
    "We have communications with people there said McCain chairman of the Senate Armed Services Committee \n",
    "The accounts could not be independently assessed but the main focus of the Russian attacks appeared to be in areas not known to have strong Islamic State footholds \n",
    "In Moscow the reply was blunt \n",
    "Total rubbish Gennady Zyuganov a member of parliament and leader of Russia s Communist Party said of the U S accusations \n",
    "In televised remarks Thursday Putin called accusations that Russian airstrikes had killed civilians in Syria information attacks \n",
    "He also addressed concerns about an accidental military clash between Russian and U S led coalition forces saying that his intelligence and military agencies were establishing contacts with counterparts in the United States \n",
    "This work is ongoing and I hope that it will conclude with the creation of a regularly acting mechanism he said \n",
    "A spokesman for Russia s Defense Ministry Igor Konashenkov said Thursday that warplanes hit a dozen Islamic State sites in the past hours destroying targets including a command center and two arms depots \n",
    "The United States and Russia agree on the need to fight the Islamic State but not about what to do with the Syrian president The Syrian civil war which grew out of an uprising against Assad has killed more than people since March and sent millions of refugees fleeing to countries in the Middle East and Europe \n",
    "Accusing Russia of pouring gasoline on the fire Defense Secretary Ashton B Carter vowed that U S pilots would continue their year long bombing campaign against the Islamic State in Syria despite Moscow s warning that American planes should stay away from its operations \n",
    "I think what they re doing is going to backfire and is counterproductive Carter said on Wednesday \n",
    "Yet Russia s military flexing in Syria brought quick overtures from neighboring Iraq where the Islamic State also holds significant territory but the government is within Washington s fold \n",
    "Iraq s prime minister Haider al Abadi told France that he would welcome Russia joining the U S led airstrikes against Islamic State targets but there have been no specific discussions \n",
    "Joining the protests against the Russian airstrikes was Saudi Arabia a leading foe of Assad and one of Washington s top Middle East allies \n",
    "At the United Nations late Wednesday the Saudi ambassador Abdallah al Mouallimi demanded that the Russian air campaign stop immediately and accused Moscow of carrying out attacks in areas outside the control of the Islamic State \n",
    "In Iran Assad s main regional backer Foreign Ministry spokeswoman Marzieh Afkham called Russia s military role a step toward resolving the current crisis in Syria \"\"\""
   ]
  },
  {
   "cell_type": "markdown",
   "metadata": {},
   "source": [
    "What is the length of the document above in characters? In words? In paragraphs (we have one paragraph per line)?\n",
    "What is the average length of a paragraph in words?\n",
    "What is the average length of a word in characters? (Remember that the document contains spaces and newlines, that should not count as parts of a word)"
   ]
  },
  {
   "cell_type": "code",
   "execution_count": null,
   "metadata": {},
   "outputs": [],
   "source": [
    "len_characters = len(washington_post)\n",
    "print(\"There are\", len_characters, \"characters\")\n",
    "\n",
    "words = washington_post.split()\n",
    "len_words = len(words)\n",
    "print(\"There are\", len_words, \"words\")\n",
    "\n",
    "paragraphs = washington_post.split('\\n')\n",
    "len_paragraphs = len(paragraphs)\n",
    "print(\"There are\", len_paragraphs, \"paragraphs\")\n",
    "\n",
    "words_per_paragraph = len_words / len_paragraphs\n",
    "print(f\"There are {words_per_paragraph:.2f} words per paragraph\")\n",
    "\n",
    "# The document contains spaces and newlines, which should not be counted\n",
    "# If you compute the average word length as len_characters/len_words you will get 6.07, which is incorrect\n",
    "len_letters_only = len_characters - washington_post.count(\" \") - washington_post.count(\"\\n\")\n",
    "letters_per_word = len_letters_only / len_words\n",
    "print(f\"There are {letters_per_word:.2f} letters per word\")\n",
    "\n",
    "# Incorrect solution\n",
    "letters_per_word = len_characters/len_words\n",
    "print(f\"There are {letters_per_word:.2f} letters per word\")"
   ]
  },
  {
   "cell_type": "code",
   "execution_count": null,
   "metadata": {},
   "outputs": [],
   "source": []
  }
 ],
 "metadata": {
  "kernelspec": {
   "display_name": "Python 3 (ipykernel)",
   "language": "python",
   "name": "python3"
  },
  "language_info": {
   "codemirror_mode": {
    "name": "ipython",
    "version": 3
   },
   "file_extension": ".py",
   "mimetype": "text/x-python",
   "name": "python",
   "nbconvert_exporter": "python",
   "pygments_lexer": "ipython3",
   "version": "3.11.3"
  }
 },
 "nbformat": 4,
 "nbformat_minor": 2
}
