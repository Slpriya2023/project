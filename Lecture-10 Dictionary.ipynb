{
 "cells": [
  {
   "cell_type": "markdown",
   "metadata": {},
   "source": [
    "# Lecture-9 Dictionaries"
   ]
  },
  {
   "cell_type": "markdown",
   "metadata": {},
   "source": [
    "Dictionaries map keys to values"
   ]
  },
  {
   "cell_type": "markdown",
   "metadata": {},
   "source": [
    "### Create dictionary"
   ]
  },
  {
   "cell_type": "code",
   "execution_count": 1,
   "metadata": {},
   "outputs": [],
   "source": [
    "rhyme = {}\n",
    "rhyme['a'] = 'apple'\n",
    "rhyme['b'] = 'banana'\n",
    "rhyme['c'] = 'cat'"
   ]
  },
  {
   "cell_type": "code",
   "execution_count": 2,
   "metadata": {},
   "outputs": [
    {
     "name": "stdout",
     "output_type": "stream",
     "text": [
      "{'a': 'apple', 'c': 'cat', 'b': 'banana'}\n"
     ]
    }
   ],
   "source": [
    "print(rhyme)"
   ]
  },
  {
   "cell_type": "markdown",
   "metadata": {},
   "source": [
    "We can create as shown before also"
   ]
  },
  {
   "cell_type": "code",
   "execution_count": 3,
   "metadata": {},
   "outputs": [],
   "source": [
    "rhyme2 = {'a': 'apple', 'b': 'banana', 'c': 'cat'}"
   ]
  },
  {
   "cell_type": "code",
   "execution_count": 4,
   "metadata": {},
   "outputs": [
    {
     "name": "stdout",
     "output_type": "stream",
     "text": [
      "{'a': 'apricot', 'c': 'cat'}\n"
     ]
    }
   ],
   "source": [
    "rhyme3 = {'a': 'apple', 'a': 'apricot', 'c': 'cat'}\n",
    "print(rhyme3)"
   ]
  },
  {
   "cell_type": "markdown",
   "metadata": {},
   "source": [
    "### Operations"
   ]
  },
  {
   "cell_type": "code",
   "execution_count": 5,
   "metadata": {},
   "outputs": [
    {
     "name": "stdout",
     "output_type": "stream",
     "text": [
      "{'pears': 217, 'apples': 430, 'oranges': 525, 'bananas': 312}\n"
     ]
    }
   ],
   "source": [
    "stock = {\"apples\": 430, \"bananas\": 312, \"oranges\": 525, \"pears\": 217}\n",
    "print(stock)"
   ]
  },
  {
   "cell_type": "code",
   "execution_count": 6,
   "metadata": {},
   "outputs": [
    {
     "name": "stdout",
     "output_type": "stream",
     "text": [
      "{'pears': 217, 'apples': 330, 'oranges': 525, 'bananas': 312}\n"
     ]
    }
   ],
   "source": [
    "# sell 100 apples\n",
    "stock['apples'] = stock['apples'] - 100\n",
    "print(stock)"
   ]
  },
  {
   "cell_type": "code",
   "execution_count": 7,
   "metadata": {},
   "outputs": [
    {
     "name": "stdout",
     "output_type": "stream",
     "text": [
      "{'pears': 217, 'apples': 330, 'oranges': 525, 'bananas': 1312}\n"
     ]
    }
   ],
   "source": [
    "# buy 1000 bananas\n",
    "stock['bananas'] = stock['bananas'] + 1000\n",
    "print(stock)"
   ]
  },
  {
   "cell_type": "code",
   "execution_count": 8,
   "metadata": {},
   "outputs": [
    {
     "name": "stdout",
     "output_type": "stream",
     "text": [
      "{'pears': 217, 'apples': 330, 'oranges': 0, 'bananas': 1312}\n"
     ]
    }
   ],
   "source": [
    "# sell all oranges\n",
    "\n",
    "#del stock['oranges']\n",
    "\n",
    "stock['oranges'] = 0\n",
    "print(stock)"
   ]
  },
  {
   "cell_type": "code",
   "execution_count": 9,
   "metadata": {},
   "outputs": [
    {
     "name": "stdout",
     "output_type": "stream",
     "text": [
      "330\n"
     ]
    }
   ],
   "source": [
    "# How many apples?\n",
    "print(stock.get('apples'))"
   ]
  },
  {
   "cell_type": "markdown",
   "metadata": {},
   "source": [
    "### Dictionary methods\n",
    "###get()->returns value of specified key\n",
    "###items()->returns a list containing atuple for each key value pair\n",
    "###keys()->returns the keys in the dictionary\n",
    "###values()->returns all the values in the dictionary\n",
    "###update()-> updates the dictionary with specified key-values pairs\n",
    "###pop()->removes the element with specified key\n",
    "###popitem()->removes the last inserted key-value pair\n",
    "###clear()->removes all the element from the dictionary\n",
    "###fromkeys()->returns dictionary with the specified key and value"
   ]
  },
  {
   "cell_type": "code",
   "execution_count": 10,
   "metadata": {},
   "outputs": [
    {
     "name": "stdout",
     "output_type": "stream",
     "text": [
      "['a', 'c', 'b']\n",
      "['apple', 'cat', 'banana']\n"
     ]
    }
   ],
   "source": [
    "#keys() and values()\n",
    "fruits = {'a': 'apple', 'b': 'banana', 'c': 'cat'}\n",
    "\n",
    "print(fruits.keys())\n",
    "print(fruits.values())"
   ]
  },
  {
   "cell_type": "code",
   "execution_count": 11,
   "metadata": {},
   "outputs": [
    {
     "name": "stdout",
     "output_type": "stream",
     "text": [
      "('Fruit: ', 'pears', ' Quantity: ', 217)\n",
      "('Fruit: ', 'apples', ' Quantity: ', 330)\n",
      "('Fruit: ', 'oranges', ' Quantity: ', 0)\n",
      "('Fruit: ', 'bananas', ' Quantity: ', 1312)\n"
     ]
    }
   ],
   "source": [
    "# show all fruits and their quantities\n",
    "for key in stock.keys():\n",
    "    print(\"Fruit: \", key, \" Quantity: \", stock[key])"
   ]
  },
  {
   "cell_type": "code",
   "execution_count": 12,
   "metadata": {},
   "outputs": [
    {
     "name": "stdout",
     "output_type": "stream",
     "text": [
      "['pears', 'apples', 'oranges', 'bananas']\n",
      "['pears', 'apples', 'oranges', 'bananas']\n"
     ]
    }
   ],
   "source": [
    "# print all fruit keys\n",
    "print(stock.keys())\n",
    "\n",
    "print(list(stock.keys()))"
   ]
  },
  {
   "cell_type": "code",
   "execution_count": 13,
   "metadata": {},
   "outputs": [
    {
     "name": "stdout",
     "output_type": "stream",
     "text": [
      "pears\n",
      "apples\n",
      "oranges\n",
      "bananas\n"
     ]
    }
   ],
   "source": [
    "# iterate all keys, you can omit keys() \n",
    "for fruit in stock:\n",
    "    print(fruit)"
   ]
  },
  {
   "cell_type": "code",
   "execution_count": 14,
   "metadata": {},
   "outputs": [
    {
     "name": "stdout",
     "output_type": "stream",
     "text": [
      "{'apples': 330, 'oranges': 0, 'bananas': 1312}\n"
     ]
    }
   ],
   "source": [
    "stock.popitem()\n",
    "print(stock)"
   ]
  },
  {
   "cell_type": "code",
   "execution_count": 17,
   "metadata": {},
   "outputs": [
    {
     "name": "stdout",
     "output_type": "stream",
     "text": [
      "{'apples': 0, 'oranges': 0, 'bananas': 0}\n"
     ]
    }
   ],
   "source": [
    "m=dict.fromkeys(stock,0)#dict is built-in function to create dictionary\n",
    "print(m)"
   ]
  },
  {
   "cell_type": "code",
   "execution_count": 18,
   "metadata": {},
   "outputs": [
    {
     "name": "stdout",
     "output_type": "stream",
     "text": [
      "('Fruit: ', 'apples', ' Quantity: ', 330)\n",
      "('Fruit: ', 'oranges', ' Quantity: ', 0)\n",
      "('Fruit: ', 'bananas', ' Quantity: ', 1312)\n"
     ]
    }
   ],
   "source": [
    "for (key, quantity) in stock.items():\n",
    "     print(\"Fruit: \", key, \" Quantity: \", quantity)"
   ]
  },
  {
   "cell_type": "code",
   "execution_count": 19,
   "metadata": {},
   "outputs": [
    {
     "name": "stdout",
     "output_type": "stream",
     "text": [
      "Mangos are NOT available\n"
     ]
    }
   ],
   "source": [
    "# check for keys, not values\n",
    "if 'mango' in stock:\n",
    "    print('Mangos are available')\n",
    "else:\n",
    "    print('Mangos are NOT available')"
   ]
  },
  {
   "cell_type": "markdown",
   "metadata": {},
   "source": [
    "### Copy\n",
    "built-in function used to create a shallow copy of a dictionary.it takes no arguments"
   ]
  },
  {
   "cell_type": "code",
   "execution_count": 20,
   "metadata": {},
   "outputs": [],
   "source": [
    "stock_copy = stock.copy()"
   ]
  },
  {
   "cell_type": "code",
   "execution_count": 21,
   "metadata": {},
   "outputs": [
    {
     "name": "stdout",
     "output_type": "stream",
     "text": [
      "('Stock: ', {'apples': 330, 'oranges': 0, 'bananas': 1312})\n",
      "('Stock Copy: ', {'apples': 330, 'oranges': 0, 'bananas': 1312})\n"
     ]
    }
   ],
   "source": [
    "print('Stock: ', stock)\n",
    "print('Stock Copy: ', stock_copy)"
   ]
  },
  {
   "cell_type": "code",
   "execution_count": 22,
   "metadata": {},
   "outputs": [
    {
     "name": "stdout",
     "output_type": "stream",
     "text": [
      "('Stock: ', {'apples': 1330, 'oranges': 0, 'bananas': 1312})\n",
      "('Stock Copy: ', {'apples': 330, 'oranges': 0, 'bananas': 1312})\n"
     ]
    }
   ],
   "source": [
    "stock['apples'] += 1000\n",
    "print('Stock: ', stock)\n",
    "print('Stock Copy: ', stock_copy)"
   ]
  },
  {
   "cell_type": "markdown",
   "metadata": {},
   "source": [
    "### Alias\n",
    "process of assigning one variable's value to another variable"
   ]
  },
  {
   "cell_type": "code",
   "execution_count": 23,
   "metadata": {},
   "outputs": [
    {
     "name": "stdout",
     "output_type": "stream",
     "text": [
      "{'apples': 3330, 'oranges': 0, 'bananas': 1312}\n"
     ]
    }
   ],
   "source": [
    "# alias, it points to same objects\n",
    "stock_alias = stock\n",
    "stock_alias['apples'] += 2000\n",
    "print(stock)"
   ]
  },
  {
   "cell_type": "code",
   "execution_count": 24,
   "metadata": {},
   "outputs": [
    {
     "name": "stdout",
     "output_type": "stream",
     "text": [
      "3330\n"
     ]
    }
   ],
   "source": [
    "print(stock.get('apples'))"
   ]
  },
  {
   "cell_type": "markdown",
   "metadata": {},
   "source": [
    "### Count character frequencies from string"
   ]
  },
  {
   "cell_type": "code",
   "execution_count": 25,
   "metadata": {},
   "outputs": [
    {
     "name": "stdout",
     "output_type": "stream",
     "text": [
      "{'a': 1, 'c': 1, 'e': 1, 'i': 1, 'h': 1, 'n': 2}\n",
      "('Sorted: ', [('a', 1), ('c', 1), ('e', 1), ('h', 1), ('i', 1), ('n', 2)])\n"
     ]
    }
   ],
   "source": [
    "city = 'chennai'\n",
    "counts = {}\n",
    "\n",
    "for char in city:\n",
    "    counts[char] = counts.get(char, 0) + 1\n",
    "\n",
    "print(counts)\n",
    "\n",
    "# print in alphabetical order\n",
    "sorted_counts = list(counts.items())\n",
    "sorted_counts.sort()\n",
    "print('Sorted: ', sorted_counts)"
   ]
  },
  {
   "cell_type": "markdown",
   "metadata": {},
   "source": [
    "### Walk Through: Modify as below"
   ]
  },
  {
   "cell_type": "markdown",
   "metadata": {},
   "source": [
    "Print output as below <br>\n",
    "a    1 <br>\n",
    "c    1 <br> \n",
    "e    1 <br>\n",
    "h    1 <br>\n",
    "i    1 <br>\n",
    "n    2 <br>"
   ]
  },
  {
   "cell_type": "markdown",
   "metadata": {},
   "source": [
    "### Walk Through-2 Perform the operations"
   ]
  },
  {
   "cell_type": "markdown",
   "metadata": {},
   "source": [
    "#### Assume: dictionary = {\"apples\": 15, \"bananas\": 35, \"grapes\": 12}"
   ]
  },
  {
   "cell_type": "markdown",
   "metadata": {},
   "source": [
    "#### Show the quantities of banana\n",
    "#### How many items in the dictionary?\n",
    "#### Does graphs exist in the dictionary?\n",
    "#### Does pears exists in the dictionary?. If so, return its quantity, otherwise initialize with 0\n",
    "#### Print all sorted keys\n",
    "#### Delete pears from dictionary"
   ]
  },
  {
   "cell_type": "markdown",
   "metadata": {},
   "source": [
    "### Walk Through-3"
   ]
  },
  {
   "cell_type": "code",
   "execution_count": 26,
   "metadata": {},
   "outputs": [],
   "source": [
    "# define add_fruit method\n",
    "def add_fruit(inventory, fruit, quantity=0):\n",
    "    inventory[fruit] = inventory.get(fruit, 0) + quantity\n"
   ]
  },
  {
   "cell_type": "code",
   "execution_count": 27,
   "metadata": {},
   "outputs": [
    {
     "name": "stdout",
     "output_type": "stream",
     "text": [
      "{'mango': 100}\n"
     ]
    }
   ],
   "source": [
    "new_inventory = {}\n",
    "add_fruit(new_inventory, 'mango', 100)\n",
    "print(new_inventory)"
   ]
  },
  {
   "cell_type": "code",
   "execution_count": 28,
   "metadata": {},
   "outputs": [
    {
     "name": "stdout",
     "output_type": "stream",
     "text": [
      "{'graphs': 0, 'mango': 100}\n"
     ]
    }
   ],
   "source": [
    "add_fruit(new_inventory, 'graphs')\n",
    "print(new_inventory)"
   ]
  },
  {
   "cell_type": "code",
   "execution_count": 29,
   "metadata": {},
   "outputs": [
    {
     "name": "stdout",
     "output_type": "stream",
     "text": [
      "{'graphs': 0, 'mango': 100, 'apple': 500}\n"
     ]
    }
   ],
   "source": [
    "add_fruit(new_inventory, 'apple', 500)\n",
    "print(new_inventory)"
   ]
  },
  {
   "cell_type": "code",
   "execution_count": 30,
   "metadata": {},
   "outputs": [
    {
     "name": "stdout",
     "output_type": "stream",
     "text": [
      "{'graphs': 0, 'mango': 100, 'apple': 1000}\n"
     ]
    }
   ],
   "source": [
    "# add 500 more apples\n",
    "add_fruit(new_inventory, 'apple', 500)\n",
    "print(new_inventory)"
   ]
  },
  {
   "cell_type": "markdown",
   "metadata": {},
   "source": [
    "## Pickle"
   ]
  },
  {
   "cell_type": "markdown",
   "metadata": {},
   "source": [
    "it is the process of converting a python object(list,dict,etc.,) into a byte stream(o and 1) to store it in a file/database"
   ]
  },
  {
   "cell_type": "code",
   "execution_count": 31,
   "metadata": {},
   "outputs": [
    {
     "name": "stdout",
     "output_type": "stream",
     "text": [
      "('Original:', {'Bubu': 'Bear', 'Joel': 'Kemp', 'Yogi': 'Bear', 'Bob': 'Saget'})\n",
      "('Loaded:', {'Bubu': 'Bear', 'Joel': 'Kemp', 'Yogi': 'Bear', 'Bob': 'Saget'})\n"
     ]
    }
   ],
   "source": [
    "# Purpose:\tShowcases the serialization and deserialization of dictionaries using Pickle files.\n",
    "# Note:\t\tThe output will be in a file output.p in the same directory as this file.\n",
    "\n",
    "import pickle\n",
    "\n",
    "def main():\n",
    "\t\n",
    "\tdict = {}\n",
    "\t\n",
    "\tdict[\"Joel\"] = \"Kemp\"\n",
    "\tdict[\"Bob\"]  = \"Saget\"\n",
    "\tdict[\"Yogi\"] = \"Bear\"\n",
    "\tdict[\"Bubu\"] = \"Bear\"\n",
    "\n",
    "\tprint(\"Original:\", dict)\n",
    "\t\n",
    "\t# Write the dictionary to the pickle file\n",
    "\tfile = open(\"output.p\", \"wb\")\t\n",
    "\tpickle.dump(dict, file)#dump() is used to store python objects in file\n",
    "\tfile.close()\n",
    "\n",
    "\t# Load the data from the pickle file into a dictionary\t\n",
    "\tfile = open(\"output.p\", \"rb\")\n",
    "\tdict2 = pickle.load(file)#load() unpickles data from file to python objects \n",
    "\tfile.close()\n",
    "\t\n",
    "\tprint(\"Loaded:\", dict2)\n",
    "\t\n",
    "main()"
   ]
  },
  {
   "cell_type": "markdown",
   "metadata": {},
   "source": [
    "### Exercises"
   ]
  },
  {
   "cell_type": "code",
   "execution_count": null,
   "metadata": {},
   "outputs": [],
   "source": [
    "\"resultswnames.txt\"\n",
    "Johnny \t8.65\n",
    "Juan \t9.12\n",
    "Joseph \t8.45\n",
    "Stacey \t7.81\n",
    "Nideen \t8.05\n",
    "Zack \t7.21\n",
    "Aaron \t8.31"
   ]
  },
  {
   "cell_type": "code",
   "execution_count": null,
   "metadata": {},
   "outputs": [],
   "source": [
    "# File:\t\tthreeHighestWithNames.py\n",
    "# Purpose:\tSolves the surf competition by printing the three highest scores along with the respective surfer names.\n",
    "\n",
    "scores = {}\n",
    "\n",
    "# Open the file\n",
    "file_handle = open(\"resultswnames.txt\")\n",
    "\n",
    "# For each line of data\n",
    "for line in file_handle:\n",
    "    #Split the line into two pieces of data\n",
    "    (name, score) = line.split()\n",
    "\n",
    "    #Score the name as a hash of the score\n",
    "    scores[score] = name\n",
    "\n",
    "file_handle.close()\n",
    "\n",
    "# Sort the scores hash's keys in descending order\n",
    "sorted_scores = sorted(scores.keys(), reverse = True)\n",
    "\n",
    "print (\"The top scores were:\")\n",
    "for i in range(3):\n",
    "\tscore = sorted_scores[i]\n",
    "\tsurfer_name = scores[score]\n",
    "\tprint (str(i+1)+\".\", surfer_name, score)"
   ]
  },
  {
   "cell_type": "markdown",
   "metadata": {},
   "source": [
    "### Find average mark\n",
    "Write a program that asks the user to enter in a series of student names and test scores <br>\n",
    "Use a Dictionary to store a new record in the dictionary based on the student name (i.e. the name becomes the key) – store the student score at that position.<br>\n",
    "When you are finished print out the names and scores of all students<br>\n",
    "Extension: print them out in alphabetical order <br>\n",
    "Extension: Allow the user to enter in multiple scores for each student.  If the student already has a score simply add it to the total score for the student. (Hint: use list to store several scores) <br>\n",
    "\n",
    "PART-2 <BR>\n",
    "Extension: Modify the code to store the user provided name and set of marks as tab separated values in a text file, 'studmarks.txt' <BR>\n",
    "Then, open the file, stud_marks.txt, and load name as a dictionary key and set of marks as list of dictionary values. <br>\n",
    "Now, compute the average marks for each student and print name and average mark."
   ]
  },
  {
   "cell_type": "code",
   "execution_count": null,
   "metadata": {},
   "outputs": [],
   "source": [
    "# Create a telephone directory\n",
    "\n",
    "contacts = {}\n",
    "\n",
    "while(True):\n",
    "\trow = input(\"Enter the name and number: \")\n",
    "\t\n",
    "\t# A list works better than multiple assignment\n",
    "\t#\tin the case where we get fewer inputs like \"done\"\n",
    "\tinfo = row.split()\n",
    "\t\n",
    "\t# If you split \"done\", then you get [\"done\"]\n",
    "\tif(info[0] == \"done\"):\n",
    "\t\tbreak\n",
    "\t\n",
    "\tname  = info[0]\n",
    "\tphone = info[1]\n",
    "\t\n",
    "\tcontacts[name] = phone\n",
    "\tprint(\"...stored...\")\n",
    "\t\n",
    "# Print the contacts\n",
    "print(\"\\nPrinting Contacts:\")\n",
    "for name, phone in contacts.items():\n",
    "\tprint(name, \":\", phone)"
   ]
  },
  {
   "cell_type": "markdown",
   "metadata": {},
   "source": [
    "#### Phone-Book design"
   ]
  },
  {
   "cell_type": "code",
   "execution_count": null,
   "metadata": {},
   "outputs": [],
   "source": [
    "def get_phone_number(phone_book, name): \n",
    "\t\"\"\"Returns the phone number associated with the passed name. Returns -1 if not found.\"\"\"\n",
    "\n",
    "\tnames = phone_book.keys()\n",
    "\t\n",
    "\tname_in_dict = name in names\t# Stylistic and a tiny bit easier to read\n",
    "\t\n",
    "\tif name_in_dict:\n",
    "\t\tnumber = phone_book[name]\n",
    "\t\treturn number\n",
    "\telse:\n",
    "\t\treturn -1\n",
    "\n",
    "def main():\n",
    "\t\n",
    "\t# Hard-coded to make this simple. \n",
    "\tphone_book = {\"Joel Kemp\": 1234567, \"Yogi Bear\": 1919191, \"Bubu Bear\": 8475643}\n",
    "\n",
    "\tprint(\"Enter a name and we'll give you the phone number!\")\n",
    "\tname = input(\"Name: \")\n",
    "\t\n",
    "\t# Search for the number, if it exists\n",
    "\t# Note: these variable names have no association with the function's internal variable names\n",
    "\tnumber = get_phone_number(phone_book, name)\n",
    "\t\n",
    "\tnumber_exists = number != -1\n",
    "\t\n",
    "\tif number_exists:\n",
    "\t\tprint(\"Number:\", number)\n",
    "\telse:\n",
    "\t\tprint(\"Sorry, the name\", name, \"doesn't exist in the phone book!\")\n",
    "\t\n",
    "main()"
   ]
  },
  {
   "cell_type": "markdown",
   "metadata": {},
   "source": [
    "#### Modify Phone Book code so that it stores all name and telephone number onto a file"
   ]
  },
  {
   "cell_type": "markdown",
   "metadata": {},
   "source": [
    "## Word Count"
   ]
  },
  {
   "cell_type": "markdown",
   "metadata": {},
   "source": [
    "1. Implement a print_words(filename) function that counts\n",
    "how often each word appears in the text and prints:\n",
    "word1 count1\n",
    "word2 count2\n",
    "...\n",
    "\n",
    "Print the above list in order sorted by word (python will sort punctuation to\n",
    "come before letters -- that's fine). Store all the words as lowercase,\n",
    "so 'The' and 'the' count as the same word.\n",
    "\n",
    "2. Implement a print_top(filename) which is similar\n",
    "to print_words() but which prints just the top 20 most common words sorted\n",
    "so the most common word is first, then the next most common, and so on.\n",
    "\n",
    "Use str.split() (no arguments) to split on all whitespace.\n",
    "\n",
    "Workflow: don't build the whole program at once. Get it to an intermediate\n",
    "milestone and print your data structure and sys.exit(0).\n",
    "When that's working, try for the next milestone.\n",
    "\n",
    "Optional: define a helper function to avoid code duplication inside\n",
    "print_words() and print_top()."
   ]
  },
  {
   "cell_type": "code",
   "execution_count": null,
   "metadata": {},
   "outputs": [],
   "source": [
    "def word_count_dict(filename):\n",
    "  \"\"\"Returns a word/count dict for this filename.\"\"\"\n",
    "  # Utility used by count() and Topcount().\n",
    "  word_count = {}  # Map each word to its count\n",
    "  input_file = open(filename, 'r')\n",
    "  for line in input_file:\n",
    "    words = line.split()\n",
    "    for word in words:\n",
    "      word = word.lower()\n",
    "      # Special case if we're seeing this word for the first time.\n",
    "      if not word in word_count:\n",
    "        word_count[word] = 1\n",
    "      else:\n",
    "        word_count[word] = word_count[word] + 1\n",
    "  input_file.close()  # Not strictly required, but good form.\n",
    "  return word_count\n",
    "\n",
    "\n",
    "def print_words(filename):\n",
    "  \"\"\"Prints one per line '<word> <count>' sorted by word for the given file.\"\"\"\n",
    "  word_count = word_count_dict(filename)\n",
    "  words = sorted(word_count.keys())\n",
    "  for word in words:\n",
    "    print(word, word_count[word])\n",
    "\n",
    "\n",
    "def get_count(word_count_tuple):\n",
    "  \"\"\"Returns the count from a dict word/count tuple  -- used for custom sort.\"\"\"\n",
    "  return word_count_tuple[1]\n",
    "\n",
    "\n",
    "def print_top(filename, top=10):\n",
    "  \"\"\"Prints the top count listing for the given file, default is top-10 words.\"\"\"\n",
    "  word_count = word_count_dict(filename)\n",
    "\n",
    "  # Each item is a (word, count) tuple.\n",
    "  # Sort them so the big counts are first using key=get_count() to extract count.\n",
    "  items = sorted(word_count.items(), key=get_count, reverse=True)\n",
    "\n",
    "  # Print the top words\n",
    "  for item in items[:top]:\n",
    "    print(item[0], item[1])\n"
   ]
  },
  {
   "cell_type": "code",
   "execution_count": null,
   "metadata": {},
   "outputs": [],
   "source": [
    "# let us print word count of a file alice.txt\n",
    "print_words('alice.txt')"
   ]
  },
  {
   "cell_type": "code",
   "execution_count": null,
   "metadata": {},
   "outputs": [],
   "source": [
    "# Print top-20 words\n",
    "print_top('alice.txt')\n",
    "\n",
    "print('showing top-20 words')\n",
    "#print_top('alice.txt', 20)"
   ]
  },
  {
   "cell_type": "code",
   "execution_count": null,
   "metadata": {},
   "outputs": [],
   "source": []
  }
 ],
 "metadata": {
  "kernelspec": {
   "display_name": "Python 2",
   "language": "python",
   "name": "python2"
  },
  "language_info": {
   "codemirror_mode": {
    "name": "ipython",
    "version": 2
   },
   "file_extension": ".py",
   "mimetype": "text/x-python",
   "name": "python",
   "nbconvert_exporter": "python",
   "pygments_lexer": "ipython2",
   "version": "2.7.15"
  }
 },
 "nbformat": 4,
 "nbformat_minor": 2
}
