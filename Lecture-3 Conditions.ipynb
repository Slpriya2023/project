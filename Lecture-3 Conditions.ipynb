{
 "cells": [
  {
   "cell_type": "markdown",
   "metadata": {},
   "source": [
    "# Lecture-3 Conditions"
   ]
  },
  {
   "cell_type": "markdown",
   "metadata": {},
   "source": [
    "Relational Operators: <, >, <=, >=, ==, !=\n",
    "\n",
    "Relational operators are used for comparing the values. It either returns True or False according to the condition. These operators are also known as Comparison Operators."
   ]
  },
  {
   "cell_type": "markdown",
   "metadata": {},
   "source": [
    "1.Greater than: This operator returns True if the left operand is greater than the right operand.\n",
    "\n",
    "Syntax:\n",
    "\n",
    "x > y\n",
    "\n",
    "2. Less than: This operator returns True if the left operand is less than the right operand.\n",
    "\n",
    "Syntax:\n",
    "\n",
    "x < y"
   ]
  },
  {
   "cell_type": "markdown",
   "metadata": {},
   "source": [
    "3. Equal to: This operator returns True if both the operands are equal \n",
    "    i.e. if both the left and the right operand are equal to each other.\n",
    "\n",
    "syntax:\n",
    "    x==y\n",
    "    \n",
    "4.Not equal to: This operator returns True if both the operands are not equal.\n",
    "\n",
    "Syntax:\n",
    "\n",
    "x != y\n",
    "    "
   ]
  },
  {
   "cell_type": "markdown",
   "metadata": {},
   "source": [
    "5.Greater than or equal to: This operator returns True if the left operand is greater than or equal to the right operand.\n",
    "\n",
    "Syntax:\n",
    "\n",
    "x >= y\n",
    "\n",
    "6. Less than or equal to: This operator returns True if the left operand is less than or equal to the right operand.\n",
    "\n",
    "Syntax: \n",
    "\n",
    "x <= y"
   ]
  },
  {
   "cell_type": "code",
   "execution_count": 4,
   "metadata": {},
   "outputs": [
    {
     "name": "stdout",
     "output_type": "stream",
     "text": [
      "True\n",
      "False\n",
      "True\n",
      "False\n",
      "False\n",
      "True\n"
     ]
    }
   ],
   "source": [
    "x=9\n",
    "y=5\n",
    "\n",
    "print(x>y)\n",
    "print(x<y)\n",
    "print(x>=y)\n",
    "print(x<=y)\n",
    "print(x==y)\n",
    "print(x!=y)"
   ]
  },
  {
   "cell_type": "markdown",
   "metadata": {},
   "source": [
    "Logical Operators: and, or, not\n",
    "\n",
    "Logical operators are used to combine conditional statements"
   ]
  },
  {
   "cell_type": "markdown",
   "metadata": {},
   "source": [
    "1.and \tReturns True if both statements are true\n",
    "2.or\tReturns True if one of the statements is true\n",
    "3.not\tReverse the result, returns False if the result is true"
   ]
  },
  {
   "cell_type": "code",
   "execution_count": 5,
   "metadata": {},
   "outputs": [
    {
     "name": "stdout",
     "output_type": "stream",
     "text": [
      "True\n",
      "True\n",
      "False\n"
     ]
    }
   ],
   "source": [
    "a=15\n",
    "b=7\n",
    "c=4\n",
    "print(a>b and a>c)\n",
    "print(b>a or b>c)\n",
    "print( not(a>b))"
   ]
  },
  {
   "cell_type": "markdown",
   "metadata": {},
   "source": [
    "Boolean Operators: True, False\n",
    "The Python Boolean type is one of Python's built-in data types. It's used to represent the truth value of an expression."
   ]
  },
  {
   "cell_type": "markdown",
   "metadata": {},
   "source": [
    "Truth tables: and, or, not, not and, not or"
   ]
  },
  {
   "cell_type": "markdown",
   "metadata": {},
   "source": [
    "### Example"
   ]
  },
  {
   "cell_type": "code",
   "execution_count": 6,
   "metadata": {},
   "outputs": [
    {
     "name": "stdout",
     "output_type": "stream",
     "text": [
      "True\n",
      "False\n",
      "False\n",
      "True\n",
      "True\n",
      "True\n",
      "False\n",
      "True\n",
      "False\n",
      "False\n",
      "True\n",
      "False\n",
      "True\n",
      "False\n",
      "False\n",
      "False\n",
      "True\n",
      "True\n",
      "False\n"
     ]
    }
   ],
   "source": [
    "print(True and True)\n",
    "print(False and True)\n",
    "\n",
    "print(1 == 1 and 2 == 1)\n",
    "print(\"test\" == \"test\")\n",
    "print(1 == 1 or 2 != 1)\n",
    "\n",
    "print(True and 1 == 1)\n",
    "print(False and 0 != 0)\n",
    "print(True or 1 == 1)\n",
    "\n",
    "print(\"test\" == \"testing\")\n",
    "print(1 != 0 and 2 == 1)\n",
    "print(\"test\" != \"testing\")\n",
    "print(\"test\" == 1)\n",
    "\n",
    "print(not (True and False))\n",
    "print(not (1 == 1 and 0 != 1))\n",
    "print(not (10 == 1 or 1000 == 1000))\n",
    "print(not (1 != 10 or 3 == 4))\n",
    "\n",
    "print(not (\"testing\" == \"testing\" and \"Zed\" == \"Cool Guy\"))\n",
    "print(1 == 1 and (not (\"testing\" == 1 or 1 == 0)))\n",
    "\n",
    "print(\"chunky\" == \"bacon\" and (not (3 == 4 or 3 == 3)))\n",
    "#print(3 == 3 and (not (\"testing\" == \"testing\" or \"Python\" == \"Fun\")))"
   ]
  },
  {
   "cell_type": "markdown",
   "metadata": {},
   "source": [
    "## Print if number is Even"
   ]
  },
  {
   "cell_type": "code",
   "execution_count": 7,
   "metadata": {},
   "outputs": [
    {
     "name": "stdout",
     "output_type": "stream",
     "text": [
      "Enter an integer: 13\n"
     ]
    }
   ],
   "source": [
    "x = int(input('Enter an integer: '))\n",
    "if x % 2 == 0:\n",
    "    print(x, \" is even.\")"
   ]
  },
  {
   "cell_type": "markdown",
   "metadata": {},
   "source": [
    "## Print if number is Even or Odd"
   ]
  },
  {
   "cell_type": "code",
   "execution_count": 8,
   "metadata": {},
   "outputs": [
    {
     "name": "stdout",
     "output_type": "stream",
     "text": [
      "Enter an integer: 59\n",
      "(59, ' is odd.')\n"
     ]
    }
   ],
   "source": [
    "x = int(input('Enter an integer: '))\n",
    "if x % 2 == 0:\n",
    "    print(x, \" is even.\")\n",
    "else:\n",
    "    print(x, \" is odd.\")"
   ]
  },
  {
   "cell_type": "markdown",
   "metadata": {},
   "source": [
    "## Print if number is positive and single digit"
   ]
  },
  {
   "cell_type": "code",
   "execution_count": 9,
   "metadata": {},
   "outputs": [
    {
     "name": "stdout",
     "output_type": "stream",
     "text": [
      "Enter an integer: 56\n"
     ]
    }
   ],
   "source": [
    "x = int(input('Enter an integer: '))\n",
    "\n",
    "if x > 0 and x < 10:\n",
    "    print(x, ' is positive and single digit')"
   ]
  },
  {
   "cell_type": "code",
   "execution_count": null,
   "metadata": {},
   "outputs": [],
   "source": [
    "# one more way\n",
    "x = int(input('Enter an integer: '))\n",
    "\n",
    "if 0 < x < 10:\n",
    "    print(x, ' is positive and single digit')"
   ]
  },
  {
   "cell_type": "markdown",
   "metadata": {},
   "source": [
    "## Nested if statements"
   ]
  },
  {
   "cell_type": "code",
   "execution_count": null,
   "metadata": {},
   "outputs": [],
   "source": [
    "# Check if number is -ve, +ve or zero\n",
    "\n",
    "x = int(input('Enter an integer: '))\n",
    "\n",
    "if x < 0:\n",
    "    print(x, ' is negative')\n",
    "elif x > 0:\n",
    "    print(x, ' is positive')\n",
    "else:\n",
    "    print(x, ' is zero')"
   ]
  },
  {
   "cell_type": "markdown",
   "metadata": {},
   "source": [
    "## Example: Simple game"
   ]
  },
  {
   "cell_type": "code",
   "execution_count": 10,
   "metadata": {},
   "outputs": [
    {
     "name": "stdout",
     "output_type": "stream",
     "text": [
      "We should take the cars.\n",
      "Maybe we could take the trucks.\n",
      "Alright, let's just take the trucks.\n"
     ]
    }
   ],
   "source": [
    "people = 30\n",
    "cars = 40\n",
    "trucks = 15\n",
    "\n",
    "if cars > people:\n",
    "    print(\"We should take the cars.\")\n",
    "elif cars < people:\n",
    "    print(\"We should not take the cars.\")\n",
    "else:\n",
    "    print(\"We can't decide.\")\n",
    "\n",
    "if trucks > cars:\n",
    "    print(\"That's too many trucks.\")\n",
    "elif trucks < cars:\n",
    "    print(\"Maybe we could take the trucks.\")\n",
    "else:\n",
    "    print(\"We still can't decide.\")\n",
    "\n",
    "if people > trucks:\n",
    "    print(\"Alright, let's just take the trucks.\")\n",
    "else:\n",
    "    print(\"Fine, let's stay home then.\")"
   ]
  },
  {
   "cell_type": "markdown",
   "metadata": {},
   "source": [
    "#### Walk Through-1: change values for people, car and truck ad observe results"
   ]
  },
  {
   "cell_type": "markdown",
   "metadata": {},
   "source": [
    "#### Walk Through-2:Try some more complex boolean expressions like cars > people or trucks < cars"
   ]
  },
  {
   "cell_type": "markdown",
   "metadata": {},
   "source": [
    "## Another simple game"
   ]
  },
  {
   "cell_type": "code",
   "execution_count": null,
   "metadata": {},
   "outputs": [],
   "source": [
    "print(\"\"\"You enter a dark room with two doors. \n",
    "Do you go through door #1 or door #2?\"\"\")\n",
    "\n",
    "door = input(\"> \")\n",
    "\n",
    "if door == \"1\":\n",
    "    print(\"There's a giant bear here eating a cheese cake.\")\n",
    "    print(\"What do you do?\")\n",
    "    print(\"1. Take the cake.\")\n",
    "    print(\"2. Scream at the bear.\")\n",
    "    \n",
    "    bear = input(\"> \")\n",
    "    \n",
    "    if bear == \"1\":\n",
    "        print(\"The bear eats your face off. Good job!\")\n",
    "    elif bear == \"2\":\n",
    "        print(\"The bear eats your legs off. Good job!\")\n",
    "    else:\n",
    "        print(f\"Well, doing {bear} is probably better.\")\n",
    "        print(\"Bear runs away.\")\n",
    "\n",
    "elif door == \"2\":\n",
    "    print(\"You stare into the endless abyss at Cthulhu's retina.\")\n",
    "    print(\"1. Blueberries.\")\n",
    "    print(\"2. Yellow jacket clothespins.\")\n",
    "    print(\"3. Understanding revolvers yelling melodies.\")\n",
    "    \n",
    "    insanity = input(\"> \")\n",
    "    \n",
    "    if insanity == \"1\" or insanity == \"2\":\n",
    "        print(\"Your body survives powered by a mind of jello.\")\n",
    "        print(\"Good job!\")\n",
    "    else:\n",
    "        print(\"The insanity rots your eyes into a pool of muck.\")\n",
    "        print(\"Good job!\")\n",
    "\n",
    "else:\n",
    "    print(\"You stumble around and fall on a knife and die. Good job!\")"
   ]
  },
  {
   "cell_type": "markdown",
   "metadata": {},
   "source": [
    "### Walk Through: Rerun the above game multiple times with different inputs"
   ]
  },
  {
   "cell_type": "markdown",
   "metadata": {},
   "source": [
    "### Exercise: Print Grade for the given mark"
   ]
  },
  {
   "cell_type": "code",
   "execution_count": null,
   "metadata": {},
   "outputs": [],
   "source": []
  }
 ],
 "metadata": {
  "kernelspec": {
   "display_name": "Python 2",
   "language": "python",
   "name": "python2"
  },
  "language_info": {
   "codemirror_mode": {
    "name": "ipython",
    "version": 2
   },
   "file_extension": ".py",
   "mimetype": "text/x-python",
   "name": "python",
   "nbconvert_exporter": "python",
   "pygments_lexer": "ipython2",
   "version": "2.7.15"
  }
 },
 "nbformat": 4,
 "nbformat_minor": 2
}
